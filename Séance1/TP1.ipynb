{
 "cells": [
  {
   "cell_type": "markdown",
   "metadata": {},
   "source": [
    "## Introduction"
   ]
  },
  {
   "cell_type": "markdown",
   "metadata": {},
   "source": [
    "Creer une image en niveau de gris"
   ]
  },
  {
   "cell_type": "code",
   "execution_count": 10,
   "metadata": {},
   "outputs": [],
   "source": [
    "from PIL import Image\n",
    "\n",
    "img = Image.new('L', (800, 600)) # L pour niveaux de gris\n",
    "\n",
    "for y in range(600):\n",
    "    for x in range(800):\n",
    "        img.putpixel((x, y), 100) # 100 pour un gris moyen\n",
    "\n",
    "# l'afficher\n",
    "img.show()\n",
    "# l'enregistrer\n",
    "img.save('image_niveau_de_gris.png')"
   ]
  },
  {
   "cell_type": "markdown",
   "metadata": {},
   "source": [
    "Une image blanche"
   ]
  },
  {
   "cell_type": "code",
   "execution_count": 11,
   "metadata": {},
   "outputs": [],
   "source": [
    "img = Image.new('L', (800, 600)) # L pour niveaux de gris\n",
    "\n",
    "for y in range(600):\n",
    "    for x in range(800):\n",
    "        img.putpixel((x, y), 256) # 256 pour un blanc\n",
    "# l'afficher\n",
    "img.show()\n",
    "# l'enregistrer\n",
    "img.save('image_blanc.png')"
   ]
  },
  {
   "cell_type": "markdown",
   "metadata": {},
   "source": [
    "Une image noire"
   ]
  },
  {
   "cell_type": "code",
   "execution_count": 12,
   "metadata": {},
   "outputs": [],
   "source": [
    "img = Image.new('L', (800, 600)) # L pour niveaux de gris\n",
    "\n",
    "for y in range(600):\n",
    "    for x in range(800):\n",
    "        img.putpixel((x, y), 0) # 0 pour du noir\n",
    "\n",
    "# l'afficher\n",
    "img.show()\n",
    "# l'enregistrer\n",
    "img.save('image_noir.png')"
   ]
  },
  {
   "cell_type": "markdown",
   "metadata": {},
   "source": [
    "Une image rose"
   ]
  },
  {
   "cell_type": "code",
   "execution_count": 19,
   "metadata": {},
   "outputs": [],
   "source": [
    "img = Image.new('RGB', (800, 600)) # RGB pour couleur\n",
    "\n",
    "for y in range(600):\n",
    "    for x in range(800):\n",
    "        img.putpixel((x, y), (255, 108, 158))\n",
    "# l'afficher\n",
    "img.show()\n",
    "# l'enregistrer\n",
    "img.save('image_rose.png')\n"
   ]
  },
  {
   "cell_type": "markdown",
   "metadata": {},
   "source": [
    "Une image bleue"
   ]
  },
  {
   "cell_type": "code",
   "execution_count": 20,
   "metadata": {},
   "outputs": [],
   "source": [
    "img = Image.new('RGB', (800, 600)) # RGB pour couleur\n",
    "\n",
    "for y in range(600):\n",
    "    for x in range(800):\n",
    "        img.putpixel((x, y), (0, 0, 255))\n",
    "# l'afficher\n",
    "img.show()\n",
    "# l'enregistrer\n",
    "img.save('image_bleue.png')\n"
   ]
  },
  {
   "cell_type": "markdown",
   "metadata": {},
   "source": [
    "Un drapeau d'un pays"
   ]
  },
  {
   "cell_type": "code",
   "execution_count": 26,
   "metadata": {},
   "outputs": [],
   "source": [
    "img = Image.new('RGB', (800, 600)) # RGB pour couleur\n",
    "\n",
    "for y in range(600):\n",
    "    for x in range(800):\n",
    "        if y < 200:\n",
    "            img.putpixel((x, y), (0, 0, 0))\n",
    "        elif y < 400:\n",
    "            img.putpixel((x, y), (255, 0, 0))\n",
    "        else:\n",
    "            img.putpixel((x, y), (255, 255, 0))\n",
    "# l'afficher\n",
    "img.show()\n",
    "# l'enregistrer\n",
    "img.save('image_drapeau_allemagne.png')"
   ]
  },
  {
   "cell_type": "markdown",
   "metadata": {},
   "source": [
    "Un cercle"
   ]
  },
  {
   "cell_type": "code",
   "execution_count": 36,
   "metadata": {},
   "outputs": [],
   "source": [
    "img = Image.new('RGB', (800, 600)) # RGB pour couleur\n",
    "\n",
    "for y in range(600):\n",
    "    for x in range(800):\n",
    "        if ((x-400)**2 + (y-300)**2) < 50**2:\n",
    "            img.putpixel((x, y), (255, 0, 0))\n",
    "        elif ((x-400)**2 + (y-300)**2) < 100**2:\n",
    "            img.putpixel((x, y), (255, 255, 0))\n",
    "        elif ((x-400)**2 + (y-300)**2) < 150**2:\n",
    "            img.putpixel((x, y), (255, 255, 255))\n",
    "\n",
    "# l'afficher\n",
    "img.show()\n",
    "# l'enregistrer\n",
    "img.save('image_cercles.png')"
   ]
  },
  {
   "cell_type": "markdown",
   "metadata": {},
   "source": [
    "Des carrés"
   ]
  },
  {
   "cell_type": "code",
   "execution_count": 50,
   "metadata": {},
   "outputs": [],
   "source": [
    "img = Image.new('RGB', (800, 600)) # RGB pour couleur\n",
    "\n",
    "for y in range(600):\n",
    "    for x in range(800):\n",
    "        if 350 < x < 450 and 250 < y < 350:\n",
    "            img.putpixel((x, y), (252, 230, 28))\n",
    "        elif x > 500 and y > 300:\n",
    "            img.putpixel((x, y), (255, 165, 10))\n",
    "        elif x < 300 and y < 300:\n",
    "            img.putpixel((x, y), (255, 127, 0))\n",
    "\n",
    "\n",
    "# l'afficher\n",
    "img.show()\n",
    "# l'enregistrer\n",
    "img.save('image_carrés.png')"
   ]
  },
  {
   "cell_type": "markdown",
   "metadata": {},
   "source": [
    "Des dégradés"
   ]
  },
  {
   "cell_type": "code",
   "execution_count": 63,
   "metadata": {},
   "outputs": [],
   "source": [
    "img = Image.new('RGB', (800, 600)) # RGB pour couleur\n",
    "\n",
    "for y in range(600):\n",
    "    for x in range(800):\n",
    "        img.putpixel((x, y), (x, 0, 600-x))\n",
    "\n",
    "# l'afficher\n",
    "img.show()\n",
    "# l'enregistrer\n",
    "img.save('image_degrade.png')"
   ]
  },
  {
   "cell_type": "code",
   "execution_count": 64,
   "metadata": {},
   "outputs": [],
   "source": [
    "# autre degrade\n",
    "img = Image.new('RGB', (800, 600)) # RGB pour couleur\n",
    "\n",
    "for y in range(600):\n",
    "    for x in range(800):\n",
    "        img.putpixel((x, y), (500-x, 400-y, 0))\n",
    "\n",
    "# l'afficher\n",
    "img.show()\n",
    "# l'enregistrer\n",
    "img.save('image_degrade2.png')"
   ]
  },
  {
   "cell_type": "markdown",
   "metadata": {},
   "source": [
    "Un sapin de noel"
   ]
  },
  {
   "cell_type": "code",
   "execution_count": 130,
   "metadata": {},
   "outputs": [],
   "source": [
    "from PIL import ImageDraw\n",
    "\n",
    "img = Image.new('RGB', (800, 600)) # RGB pour couleur\n",
    "draw = ImageDraw.Draw(img)\n",
    "\n",
    "# on dessine le 1er triangle\n",
    "draw.polygon([(325, 200), (475, 200), (400, 100)], fill=(0, 255, 0))\n",
    "# on en dessine un autre\n",
    "draw.polygon([(300, 250), (500, 250), (400, 150)], fill=(0, 255, 0))\n",
    "# on en dessine un autre\n",
    "draw.polygon([(275, 300), (525, 300), (400, 200)], fill=(0, 255, 0))\n",
    "# on en dessine un autre\n",
    "draw.polygon([(250, 350), (550, 350), (400, 250)], fill=(0, 255, 0))\n",
    "# on fait un rectangle en dessous\n",
    "draw.rectangle([(365, 350), (435, 475)], fill=(88, 41, 0))\n",
    "\n",
    "#on fait un cercle en haut du sapin\n",
    "for y in range(600):\n",
    "    for x in range(800):\n",
    "        if ((x-400)**2 + (y-100)**2) < 20**2:\n",
    "            img.putpixel((x, y), (255, 255, 0))\n",
    "\n",
    "# on fait 3 petits cercle cote a cote au centre de l'image\n",
    "for y in range(600):\n",
    "    for x in range(800):\n",
    "        #premiere ligne\n",
    "        if ((x-350)**2 + (y-200)**2) < 10**2:\n",
    "            img.putpixel((x, y), (255, 0, 0))\n",
    "        elif ((x-375)**2 + (y-210)**2) < 10**2:\n",
    "            img.putpixel((x, y), (255, 0, 0))\n",
    "        if ((x-400)**2 + (y-200)**2) < 10**2:\n",
    "            img.putpixel((x, y), (255, 0, 0))\n",
    "        elif ((x-425)**2 + (y-210)**2) < 10**2:\n",
    "            img.putpixel((x, y), (255, 0, 0))\n",
    "        elif ((x-450)**2 + (y-200)**2) < 10**2:\n",
    "            img.putpixel((x, y), (255, 0, 0))\n",
    "        # troisieme ligne\n",
    "        if ((x-350)**2 + (y-300)**2) < 10**2:\n",
    "            img.putpixel((x, y), (255, 0, 0))\n",
    "        elif ((x-375)**2 + (y-310)**2) < 10**2:\n",
    "            img.putpixel((x, y), (255, 0, 0))\n",
    "        if ((x-400)**2 + (y-300)**2) < 10**2:\n",
    "            img.putpixel((x, y), (255, 0, 0))\n",
    "        elif ((x-425)**2 + (y-310)**2) < 10**2:\n",
    "            img.putpixel((x, y), (255, 0, 0))\n",
    "        elif ((x-450)**2 + (y-300)**2) < 10**2:\n",
    "            img.putpixel((x, y), (255, 0, 0))\n",
    "        elif ((x-325)**2 + (y-310)**2) < 10**2:\n",
    "            img.putpixel((x, y), (255, 0, 0))\n",
    "        elif ((x-475)**2 + (y-310)**2) < 10**2:\n",
    "            img.putpixel((x, y), (255, 0, 0))\n",
    "        #deuxieme ligne\n",
    "        if ((x-350)**2 + (y-250)**2) < 10**2:\n",
    "            img.putpixel((x, y), (255, 255, 255))\n",
    "        elif ((x-375)**2 + (y-260)**2) < 10**2:\n",
    "            img.putpixel((x, y), (255, 255, 255))\n",
    "        if ((x-400)**2 + (y-250)**2) < 10**2:\n",
    "            img.putpixel((x, y), (255, 255, 255))\n",
    "        elif ((x-425)**2 + (y-260)**2) < 10**2:\n",
    "            img.putpixel((x, y), (255, 255, 255))\n",
    "        elif ((x-450)**2 + (y-250)**2) < 10**2:\n",
    "            img.putpixel((x, y), (255, 255, 255))\n",
    "\n",
    "\n",
    "# l'afficher\n",
    "img.show()\n",
    "# l'enregistrer\n",
    "img.save('image_sapin.png')\n"
   ]
  },
  {
   "cell_type": "markdown",
   "metadata": {},
   "source": [
    "Une fractale"
   ]
  },
  {
   "cell_type": "code",
   "execution_count": 153,
   "metadata": {},
   "outputs": [],
   "source": [
    "# faire une fractale\n",
    "def mandelbrot(c, max_iter):\n",
    "    z = 0 # premier terme de la suite z\n",
    "    n = 0 # nombre d'itérations\n",
    "    while abs(z) <= 2 and n < max_iter: # abs(z) renvoie la valeur absolue de z (le module) \n",
    "        z = z*z + c # on calcule le prochain terme de la suite\n",
    "        n += 1 # on incrémente le nombre d'itérations\n",
    "    if n == max_iter: # si on a atteint le nombre maximal d'itérations\n",
    "        return 255 # on renvoie 255\n",
    "    else:\n",
    "        return int(n * 255 / max_iter) # sinon on renvoie une valeur entre 0 et 255\n",
    "    \n",
    "img = Image.new('L', (800, 600)) # L pour niveaux de gris\n",
    "max_iter = 50 # nombre d'itérations maximal\n",
    "for y in range(600):\n",
    "    for x in range(800):\n",
    "        # on calcule la valeur de c\n",
    "        c = complex(x/800-1.5, y/600-.5)\n",
    "        # on calcule la couleur du pixel\n",
    "        img.putpixel((x, y), mandelbrot(c, max_iter))\n",
    "\n",
    "# l'afficher\n",
    "img.show()\n",
    "# l'enregistrer\n",
    "img.save('image_fractale_test.png')\n"
   ]
  },
  {
   "cell_type": "markdown",
   "metadata": {},
   "source": [
    "Un sapin de noel v2"
   ]
  },
  {
   "cell_type": "code",
   "execution_count": 172,
   "metadata": {},
   "outputs": [],
   "source": [
    "from PIL import ImageDraw\n",
    "\n",
    "img = Image.new('RGB', (800, 600)) # RGB pour couleur\n",
    "draw = ImageDraw.Draw(img)\n",
    "\n",
    "# on dessine le 1er triangle\n",
    "draw.polygon([(325, 200), (475, 200), (400, 100)], fill=(0, 255, 0))\n",
    "# on en dessine un autre\n",
    "draw.polygon([(300, 250), (500, 250), (400, 150)], fill=(0, 255, 0))\n",
    "# on en dessine un autre\n",
    "draw.polygon([(275, 300), (525, 300), (400, 200)], fill=(0, 255, 0))\n",
    "# on en dessine un autre\n",
    "draw.polygon([(250, 350), (550, 350), (400, 250)], fill=(0, 255, 0))\n",
    "# on fait un rectangle en dessous\n",
    "draw.rectangle([(365, 350), (435, 475)], fill=(88, 41, 0))\n",
    "\n",
    "#on fait un cercle en haut du sapin\n",
    "for y in range(600):\n",
    "    for x in range(800):\n",
    "        if ((x-400)**2 + (y-100)**2) < 20**2:\n",
    "            img.putpixel((x, y), (255, 255, 0))\n",
    "\n",
    "# on fait 3 petits cercle cote a cote au centre de l'image\n",
    "for y in range(600):\n",
    "    for x in range(800):\n",
    "        #premiere ligne\n",
    "        if ((x-350)**2 + (y-200)**2) < 10**2:\n",
    "            img.putpixel((x, y), (255, 0, 0))\n",
    "        elif ((x-375)**2 + (y-210)**2) < 10**2:\n",
    "            img.putpixel((x, y), (255, 0, 0))\n",
    "        if ((x-400)**2 + (y-200)**2) < 10**2:\n",
    "            img.putpixel((x, y), (255, 0, 0))\n",
    "        elif ((x-425)**2 + (y-210)**2) < 10**2:\n",
    "            img.putpixel((x, y), (255, 0, 0))\n",
    "        elif ((x-450)**2 + (y-200)**2) < 10**2:\n",
    "            img.putpixel((x, y), (255, 0, 0))\n",
    "        # troisieme ligne\n",
    "        if ((x-350)**2 + (y-300)**2) < 10**2:\n",
    "            img.putpixel((x, y), (255, 0, 0))\n",
    "        elif ((x-375)**2 + (y-310)**2) < 10**2:\n",
    "            img.putpixel((x, y), (255, 0, 0))\n",
    "        if ((x-400)**2 + (y-300)**2) < 10**2:\n",
    "            img.putpixel((x, y), (255, 0, 0))\n",
    "        elif ((x-425)**2 + (y-310)**2) < 10**2:\n",
    "            img.putpixel((x, y), (255, 0, 0))\n",
    "        elif ((x-450)**2 + (y-300)**2) < 10**2:\n",
    "            img.putpixel((x, y), (255, 0, 0))\n",
    "        elif ((x-325)**2 + (y-310)**2) < 10**2:\n",
    "            img.putpixel((x, y), (255, 0, 0))\n",
    "        elif ((x-475)**2 + (y-310)**2) < 10**2:\n",
    "            img.putpixel((x, y), (255, 0, 0))\n",
    "        #deuxieme ligne\n",
    "        if ((x-350)**2 + (y-250)**2) < 10**2:\n",
    "            img.putpixel((x, y), (255, 255, 255))\n",
    "        elif ((x-375)**2 + (y-260)**2) < 10**2:\n",
    "            img.putpixel((x, y), (255, 255, 255))\n",
    "        if ((x-400)**2 + (y-250)**2) < 10**2:\n",
    "            img.putpixel((x, y), (255, 255, 255))\n",
    "        elif ((x-425)**2 + (y-260)**2) < 10**2:\n",
    "            img.putpixel((x, y), (255, 255, 255))\n",
    "        elif ((x-450)**2 + (y-250)**2) < 10**2:\n",
    "            img.putpixel((x, y), (255, 255, 255))\n",
    "\n",
    "for y in range(600):\n",
    "    for x in range(800):\n",
    "        if 300 < x < 390 and 400 < y < 490:\n",
    "            img.putpixel((x, y), (252, 0, 0))\n",
    "        if 340 < x < 350 and 400 < y < 490:\n",
    "            img.putpixel((x, y), (255, 255, 255))\n",
    "        if 300 < x < 390 and 440 < y < 450:\n",
    "            img.putpixel((x, y), (255, 255, 255))\n",
    "\n",
    "\n",
    "\n",
    "# l'afficher\n",
    "img.show()\n",
    "# l'enregistrer\n",
    "img.save('image_sapin_decore.png')"
   ]
  }
 ],
 "metadata": {
  "kernelspec": {
   "display_name": "Python 3",
   "language": "python",
   "name": "python3"
  },
  "language_info": {
   "codemirror_mode": {
    "name": "ipython",
    "version": 3
   },
   "file_extension": ".py",
   "mimetype": "text/x-python",
   "name": "python",
   "nbconvert_exporter": "python",
   "pygments_lexer": "ipython3",
   "version": "3.12.6"
  }
 },
 "nbformat": 4,
 "nbformat_minor": 2
}
